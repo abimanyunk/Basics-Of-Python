{
  "nbformat": 4,
  "nbformat_minor": 0,
  "metadata": {
    "colab": {
      "provenance": [],
      "authorship_tag": "ABX9TyNSldzlQAn2pr0fVATiK/sB",
      "include_colab_link": true
    },
    "kernelspec": {
      "name": "python3",
      "display_name": "Python 3"
    },
    "language_info": {
      "name": "python"
    }
  },
  "cells": [
    {
      "cell_type": "markdown",
      "metadata": {
        "id": "view-in-github",
        "colab_type": "text"
      },
      "source": [
        "<a href=\"https://colab.research.google.com/github/abimanyunk/Basics-Of-Python/blob/main/A2ZPython.ipynb\" target=\"_parent\"><img src=\"https://colab.research.google.com/assets/colab-badge.svg\" alt=\"Open In Colab\"/></a>"
      ]
    },
    {
      "cell_type": "markdown",
      "source": [
        "**Python is a popular programming language. It was created by Guido van Rossum, and released in 1991.**"
      ],
      "metadata": {
        "id": "5I0CCDZmyUrK"
      }
    },
    {
      "cell_type": "markdown",
      "source": [
        "### **What can Python do?**\n",
        "* Python can be used on a server to create web applications.\n",
        "* Python can be used alongside software to create workflows.\n",
        "* Python can connect to database systems. It can also read and modify files.\n",
        "* Python can be used to handle big data and perform complex mathematics.\n",
        "* Python can be used for rapid prototyping, or for production-ready software development."
      ],
      "metadata": {
        "id": "kj4o1CkIypw-"
      }
    },
    {
      "cell_type": "markdown",
      "source": [
        "### **Why is Python So Popular?**\n",
        "* Easy to learn: Great for beginners.\n",
        "\n",
        "* Readable: Looks like plain English.\n",
        "\n",
        "* Huge community: Tons of help and tutorials online.\n",
        "\n",
        "* Tons of libraries: You can use pre-built code for AI, web development, automation, games, and more."
      ],
      "metadata": {
        "id": "8EedDHNrzfEq"
      }
    },
    {
      "cell_type": "markdown",
      "source": [
        "## **Area\tExample Projects**\n",
        "* ✅ Web Development\n",
        "      Making websites (with Flask, Django)\n",
        "* 🤖 AI / Machine Learning\n",
        "      Building smart apps (with TensorFlow, scikit-learn)\n",
        "* 📊 Data Science\n",
        "      Analyzing data (with Pandas, NumPy)\n",
        "* 🕹️ Game Development\n",
        "      Creating games (with Pygame)\n",
        "* 🤖 Automation / Scripting\n",
        "      Automating tasks like sending emails\n",
        "* 🧪 Testing & DevOps\n",
        "      Writing test scripts or deployment tools"
      ],
      "metadata": {
        "id": "K40lrGSZzyEQ"
      }
    },
    {
      "cell_type": "markdown",
      "source": [
        "### How to Start Using Python?\n",
        "1. **Install Python**\n",
        "Go to https://python.org → Download & Install (if not already)\n",
        "\n",
        "2. Use an Editor or IDE :\n",
        "\n",
        "      * IDLE (comes with Python)\n",
        "\n",
        "      * VS Code (very popular)\n",
        "\n",
        "      * Thonny (super beginner-friendly)\n",
        "\n",
        "3. Write your first program Open your editor and type:\n",
        "`print(\"Hello World\")`"
      ],
      "metadata": {
        "id": "OKv2Ky3D01ug"
      }
    },
    {
      "cell_type": "markdown",
      "source": [
        "# What is a Variable?\n",
        "A variable is like a box that stores a value. You can name the box and put something inside it."
      ],
      "metadata": {
        "id": "e2Z4tHfZbDwp"
      }
    },
    {
      "cell_type": "code",
      "source": [
        "name = \"Alice\"\n",
        "age = 15\n",
        "height = 5.4"
      ],
      "metadata": {
        "id": "ymSLNobxbHfW"
      },
      "execution_count": null,
      "outputs": []
    },
    {
      "cell_type": "markdown",
      "source": [
        "### **Rules for Python variables:**\n",
        "\n",
        "1. A variable name must start with a letter or the underscore character\n",
        "2. A variable name cannot start with a number\n",
        "3. A variable name can only contain alpha-numeric characters and underscores (A-z, 0-9, and _ )\n",
        "4. Variable names are case-sensitive (age, Age and AGE are three different variables)\n",
        "5. A variable name cannot be any of the Python keywords."
      ],
      "metadata": {
        "id": "NKbhmtKObWxm"
      }
    },
    {
      "cell_type": "code",
      "source": [
        "# Legal Variable Name\n",
        "\n",
        "name = \"Alice\"\n",
        "my_name = \"Bob\"\n",
        "age2 = 15\n",
        "_name = \"Charlie\""
      ],
      "metadata": {
        "id": "dbnXfQYJbokg"
      },
      "execution_count": null,
      "outputs": []
    },
    {
      "cell_type": "code",
      "source": [
        "# Ilegal Variable Name\n",
        "\n",
        "2myvar = \"John\"\n",
        "my-var = \"John\"\n",
        "my var = \"John\""
      ],
      "metadata": {
        "id": "9s1amFw-bt9Y"
      },
      "execution_count": null,
      "outputs": []
    },
    {
      "cell_type": "markdown",
      "source": [
        "### **One Value to Multiple Variables**\n",
        "And you can assign the same value to multiple variables in one line:"
      ],
      "metadata": {
        "id": "DQTh1f_Ib72I"
      }
    },
    {
      "cell_type": "code",
      "source": [
        "x = y = z = \"Apple\"\n",
        "print(x) # gives Apple as output\n",
        "print(y) # gives Apple as output as x\n",
        "print(z) # Same output as x and y"
      ],
      "metadata": {
        "id": "wVJoZgxgcCIt"
      },
      "execution_count": null,
      "outputs": []
    },
    {
      "cell_type": "markdown",
      "source": [
        "### **Unpack a Collection**\n",
        "If you have a collection of values in a list, tuple etc. Python allows you to extract the values into variables. This is called unpacking."
      ],
      "metadata": {
        "id": "dk04I2tAcc6m"
      }
    },
    {
      "cell_type": "code",
      "source": [
        "fruits = [\"apple\", \"banana\", \"cherry\"]\n",
        "x, y, z = fruits\n",
        "print(x) # Gives apple as output\n",
        "print(y) # It gives banana\n",
        "print(z) # It gives cherry"
      ],
      "metadata": {
        "id": "nvMBE_sicjwM"
      },
      "execution_count": null,
      "outputs": []
    },
    {
      "cell_type": "markdown",
      "source": [
        "### **Output Variables**\n",
        "The Python print() function is often used to output variables."
      ],
      "metadata": {
        "id": "bCY0hLchdHjc"
      }
    },
    {
      "cell_type": "code",
      "source": [
        "x = \"Python is awesome\"\n",
        "print(x)"
      ],
      "metadata": {
        "id": "LpBEI4LRdMPD"
      },
      "execution_count": null,
      "outputs": []
    },
    {
      "cell_type": "markdown",
      "source": [
        "### **Reusing Variables**\n",
        "You can do operations with variables too:"
      ],
      "metadata": {
        "id": "-3oKU_zodUtA"
      }
    },
    {
      "cell_type": "code",
      "source": [
        "a = 5\n",
        "b = 3\n",
        "sum = a + b\n",
        "print(\"Total:\", sum)  # Output: 8"
      ],
      "metadata": {
        "id": "g0dC7wdAdcZg"
      },
      "execution_count": null,
      "outputs": []
    },
    {
      "cell_type": "markdown",
      "source": [
        "### **Variable Types and type()**\n",
        "Python guesses the type automatically, but you can check it with type():"
      ],
      "metadata": {
        "id": "Xzu2gfgwdz4n"
      }
    },
    {
      "cell_type": "code",
      "source": [
        "x = 42\n",
        "print(type(x))   # Output: <class 'int'>\n",
        "\n",
        "y = \"Hello\"\n",
        "print(type(y))   # Output: <class 'str'>"
      ],
      "metadata": {
        "id": "eaL_VQijd4Eu"
      },
      "execution_count": null,
      "outputs": []
    },
    {
      "cell_type": "markdown",
      "source": [
        "# **What are Data Types?**\n",
        "Data types tell Python what kind of data you're working with — numbers, text, true/false, etc.\n",
        "\n",
        "Python has many data types, but here are the basic ones to start with:"
      ],
      "metadata": {
        "id": "X6y3iXlqyFLR"
      }
    },
    {
      "cell_type": "markdown",
      "source": [
        "1. Numeric Types:\tint, float, complex\n",
        "2. Text Type:\tstr\n",
        "3. Boolean Type:\tbool\n",
        "4. Sequence Types:\tlist, tuple, range\n",
        "5. Mapping Type:\tdict\n",
        "6. Set Types:\tset, frozenset\n",
        "7. Binary Types:\tbytes, bytearray, memoryview\n",
        "8. None Type:\tNoneType"
      ],
      "metadata": {
        "id": "-Bn-IKaJyOOR"
      }
    },
    {
      "cell_type": "markdown",
      "source": [
        "## **1. Numeric Type :**\n",
        "\n",
        "The value the contain number is called numeric type. It futher classify into 2 types:\n",
        "\n",
        "    1. Integer --> Whole Number. eg:. a = 1\n",
        "    2. Float --> Decimal Number. eg:. a = 1.1\n"
      ],
      "metadata": {
        "id": "ez8Jptdbynps"
      }
    },
    {
      "cell_type": "code",
      "source": [
        "age = 15          # int\n",
        "height = 5.6      # float"
      ],
      "metadata": {
        "id": "0H1YrG8-zbjP"
      },
      "execution_count": null,
      "outputs": []
    },
    {
      "cell_type": "markdown",
      "source": [
        "## **2. String (str)**\n",
        "A string is a sequence of characters. Python treats anything inside quotes as a string. This includes letters, numbers, and symbols. Python has no character data type so single character is a string of length 1.\n"
      ],
      "metadata": {
        "id": "dkYDb6gMz4Q2"
      }
    },
    {
      "cell_type": "code",
      "source": [
        "name = \"Alice\"\n",
        "greeting = 'Hello!'"
      ],
      "metadata": {
        "id": "9ypQ1H-Y0Abl"
      },
      "execution_count": null,
      "outputs": []
    },
    {
      "cell_type": "markdown",
      "source": [
        "### **Multi-line Strings**\n",
        "    If we need a string to span multiple lines then we can use triple quotes (”’ or “””)."
      ],
      "metadata": {
        "id": "RZJUEbWz06jC"
      }
    },
    {
      "cell_type": "code",
      "source": [
        "s = \"\"\"I am Learning\n",
        "Python String on GeeksforGeeks\"\"\"\n",
        "print(s)\n",
        "\n",
        "s = '''I'm a\n",
        "Geek'''\n",
        "print(s)"
      ],
      "metadata": {
        "id": "b-_cWk2h0-6F"
      },
      "execution_count": null,
      "outputs": []
    },
    {
      "cell_type": "markdown",
      "source": [
        "## **3. Boolean (bool)**\n",
        "The bool datatype in Python is used to represent Boolean values, which can be either True or False. These values are often used in conditional statements and logical operations. Here's a brief overview:"
      ],
      "metadata": {
        "id": "9HCAcfQh1Ln4"
      }
    },
    {
      "cell_type": "code",
      "source": [
        "is_raining = True\n",
        "has_passed = False"
      ],
      "metadata": {
        "id": "a3qVfF711w0n"
      },
      "execution_count": null,
      "outputs": []
    },
    {
      "cell_type": "markdown",
      "source": [
        "## **4. List**\n",
        "\n",
        "In Python, a list is a built-in dynamic sized array (automatically grows and shrinks). We can store all types of items (including another list) in a list. A list may contain mixed type of items, this is possible because a list mainly stores references at contiguous locations and actual items maybe stored at different locations.\n",
        "\n",
        "1. List can contain duplicate items.\n",
        "2. List in Python are Mutable. Hence, we can modify, replace or delete the items.\n",
        "3. List are ordered. It maintain the order of elements based on how they are added.\n",
        "4. Accessing items in List can be done directly using their position (index), starting from 0."
      ],
      "metadata": {
        "id": "nE3hFJE22cbN"
      }
    },
    {
      "cell_type": "code",
      "source": [
        "# Creating a Python list with different data types\n",
        "a = [10, 20, \"apple\", 40, True]\n",
        "\n",
        "print(a)\n",
        "\n",
        "# Accessing elements using indexing\n",
        "print(a[0])  # 10\n",
        "print(a[1])  # 20\n",
        "print(a[2])  # \"GfG\"\n",
        "print(a[3])  # 40\n",
        "print(a[4])  # True\n",
        "\n",
        "# Checking types of elements\n",
        "print(type(a[2]))  # str\n",
        "print(type(a[4]))  # bool"
      ],
      "metadata": {
        "id": "uHpghwm52wec"
      },
      "execution_count": null,
      "outputs": []
    },
    {
      "cell_type": "markdown",
      "source": [
        "### **Access Items In List**\n",
        "Elements in a list can be accessed using indexing. Python indexes start at 0, so a[0] will access the first element, while negative indexing allows us to access elements from the end of the list. Like index -1 represents the last elements of list.\n"
      ],
      "metadata": {
        "id": "4miHHrs66zBT"
      }
    },
    {
      "cell_type": "code",
      "source": [
        "list = [\"apple\", \"banana\", \"cherry\"]\n",
        "print(list[1]) # banana will be a output"
      ],
      "metadata": {
        "id": "R8nHsg9y7Kwq"
      },
      "execution_count": null,
      "outputs": []
    },
    {
      "cell_type": "markdown",
      "source": [
        "**Negative Indexing**\n",
        "\n",
        "Negative indexing means start from the end\n",
        "\n",
        "-1 refers to the last item, -2 refers to the second last item etc."
      ],
      "metadata": {
        "id": "iHk_TLpk8maq"
      }
    },
    {
      "cell_type": "code",
      "source": [
        "list = [\"apple\", \"banana\", \"cherry\"]\n",
        "print(list[-1])"
      ],
      "metadata": {
        "colab": {
          "base_uri": "https://localhost:8080/"
        },
        "id": "jnMvdzNf8oGl",
        "outputId": "de4cbfce-bd8d-46fd-d329-b0fd0a30925d"
      },
      "execution_count": 1,
      "outputs": [
        {
          "output_type": "stream",
          "name": "stdout",
          "text": [
            "cherry\n"
          ]
        }
      ]
    },
    {
      "cell_type": "markdown",
      "source": [
        "**Range of Indexes**\n",
        "\n",
        "You can specify a range of indexes by specifying where to start and where to end the range.\n",
        "\n",
        "When specifying a range, the return value will be a new list with the specified items."
      ],
      "metadata": {
        "id": "fQDPz6KB83Tq"
      }
    },
    {
      "cell_type": "code",
      "source": [
        "list = [\"apple\", \"banana\", \"cherry\", \"orange\", \"kiwi\", \"melon\", \"mango\"]\n",
        "print(list[2:5]) # print ['cherry', 'orange', 'kiwi']\n",
        "\n",
        "print(list[:4]) # print ['apple', 'banana', 'cherry', 'orange']\n",
        "\n",
        "print(list[2:]) # print ['cherry', 'orange', 'kiwi', 'melon', 'mango']"
      ],
      "metadata": {
        "colab": {
          "base_uri": "https://localhost:8080/"
        },
        "collapsed": true,
        "id": "XruGEkbX86-z",
        "outputId": "193b9ffb-1d4d-4d3d-ee25-4b0f4f111772"
      },
      "execution_count": 3,
      "outputs": [
        {
          "output_type": "stream",
          "name": "stdout",
          "text": [
            "['cherry', 'orange', 'kiwi']\n",
            "['apple', 'banana', 'cherry', 'orange']\n",
            "['cherry', 'orange', 'kiwi', 'melon', 'mango']\n"
          ]
        }
      ]
    },
    {
      "cell_type": "markdown",
      "source": [
        "### **Adding Elements into List**\n",
        "\n",
        "We can add elements to a list using the following methods:\n",
        "\n",
        "1. append(): Adds an element at the end of the list.\n",
        "2. extend(): Adds multiple elements to the end of the list.\n",
        "3. insert(): Adds an element at a specific position."
      ],
      "metadata": {
        "id": "0UHr6FxM7bfb"
      }
    },
    {
      "cell_type": "code",
      "source": [
        "# Initialize an empty list\n",
        "a = []\n",
        "\n",
        "# Adding 10 to end of list\n",
        "a.append(10)\n",
        "print(\"After append(10):\", a)\n",
        "\n",
        "# Inserting 5 at index 0\n",
        "a.insert(0, 5)\n",
        "print(\"After insert(0, 5):\", a)\n",
        "\n",
        "# Adding multiple elements  [15, 20, 25] at the end\n",
        "a.extend([15, 20, 25])\n",
        "print(\"After extend([15, 20, 25]):\", a)"
      ],
      "metadata": {
        "id": "yyQnkeFc7pen"
      },
      "execution_count": null,
      "outputs": []
    },
    {
      "cell_type": "markdown",
      "source": [
        "### **Updating Elements into List**\n",
        "We can change the value of an element by accessing it using its index."
      ],
      "metadata": {
        "id": "M8ig2cUF7wMd"
      }
    },
    {
      "cell_type": "code",
      "source": [
        "a = [10, 20, 30, 40, 50]\n",
        "\n",
        "# Change the second element\n",
        "a[1] = 25\n",
        "\n",
        "print(a)"
      ],
      "metadata": {
        "id": "5RDiNWEV7z3W"
      },
      "execution_count": null,
      "outputs": []
    },
    {
      "cell_type": "markdown",
      "source": [
        "### **Removing Elements from List**\n",
        "\n",
        "We can remove elements from a list using:\n",
        "\n",
        "1. remove(): Removes the first occurrence of an element.\n",
        "2. pop(): Removes the element at a specific index or the last element if no index is specified.\n",
        "3. del statement: Deletes an element at a specified index."
      ],
      "metadata": {
        "id": "YdAxmhWP79nW"
      }
    },
    {
      "cell_type": "code",
      "source": [
        "a = [10, 20, 30, 40, 50]\n",
        "\n",
        "# Removes the first occurrence of 30\n",
        "a.remove(30)\n",
        "print(\"After remove(30):\", a)\n",
        "\n",
        "# Removes the element at index 1 (20)\n",
        "popped_val = a.pop(1)\n",
        "print(\"Popped element:\", popped_val)\n",
        "print(\"After pop(1):\", a)\n",
        "\n",
        "# Deletes the first element (10)\n",
        "del a[0]\n",
        "print(\"After del a[0]:\", a)"
      ],
      "metadata": {
        "id": "XPfzLBZU8Fse"
      },
      "execution_count": null,
      "outputs": []
    },
    {
      "cell_type": "markdown",
      "source": [
        "### **Iterating Over Lists**\n",
        "\n",
        "We can iterate the Lists easily by using a for loop or other iteration methods. Iterating over lists is useful when we want to do some operation on each item or access specific items based on certain conditions. Let’s take an example to iterate over the list using for loop."
      ],
      "metadata": {
        "id": "SqE-JGiM-Brh"
      }
    },
    {
      "cell_type": "code",
      "source": [
        "thislist = [\"apple\", \"banana\", \"cherry\"]\n",
        "for x in thislist:\n",
        "  print(x)"
      ],
      "metadata": {
        "id": "jpX9IIeu-MvX"
      },
      "execution_count": null,
      "outputs": []
    },
    {
      "cell_type": "markdown",
      "source": [
        "#### **Loop Through the Index Numbers**\n",
        "You can also loop through the list items by referring to their index number.\n",
        "\n",
        "Use the range() and len() functions to create a suitable iterable."
      ],
      "metadata": {
        "id": "W2jYQClM-YSq"
      }
    },
    {
      "cell_type": "code",
      "source": [
        "list = [\"apple\", \"banana\", \"cherry\"]\n",
        "for i in range(len(list)):\n",
        "  print(list[i])"
      ],
      "metadata": {
        "id": "HrCtWIqL-h8l"
      },
      "execution_count": null,
      "outputs": []
    },
    {
      "cell_type": "markdown",
      "source": [
        "#### **Using a While Loop**\n",
        "\n",
        "You can loop through the list items by using a while loop.\n",
        "\n",
        "Use the len() function to determine the length of the list, then start at 0 and loop your way through the list items by referring to their indexes.\n",
        "\n",
        "Remember to increase the index by 1 after each iteration."
      ],
      "metadata": {
        "id": "54xUhIsQ-t2i"
      }
    },
    {
      "cell_type": "code",
      "source": [
        "thislist = [\"apple\", \"banana\", \"cherry\"]\n",
        "i = 0\n",
        "while i < len(thislist):\n",
        "  print(thislist[i])\n",
        "  i = i + 1"
      ],
      "metadata": {
        "id": "w5GYFrRH-y9T"
      },
      "execution_count": null,
      "outputs": []
    },
    {
      "cell_type": "markdown",
      "source": [
        "### **Nested Lists in Python**\n",
        "A nested list is a list within another list, which is useful for representing matrices or tables. We can access nested elements by chaining indexes."
      ],
      "metadata": {
        "id": "-DTGKL2D_Lze"
      }
    },
    {
      "cell_type": "code",
      "source": [
        "matrix = [\n",
        "    [1, 2, 3],\n",
        "    [4, 5, 6],\n",
        "    [7, 8, 9]\n",
        "]\n",
        "\n",
        "# Access element at row 2, column 3\n",
        "print(matrix[1][2])"
      ],
      "metadata": {
        "id": "1XkHKiC5_Q5S"
      },
      "execution_count": null,
      "outputs": []
    },
    {
      "cell_type": "markdown",
      "source": [
        "### **Sorting the List**\n",
        "\n",
        "We are given a list of strings and our task is to sort the list based on the length of each string. For example, if the input is [“Python”, “C”, “Java”, “JavaScript”, “Go”], the output should be [“C”, “Go”, “Java”, “Python”, “JavaScript”] since shorter strings come first."
      ],
      "metadata": {
        "id": "w28TnVdTSLcC"
      }
    },
    {
      "cell_type": "markdown",
      "source": [
        "#### **Sort List Alphanumerically - (sort())**\n",
        "List objects have a sort() method that will sort the list alphanumerically, ascending, by default:"
      ],
      "metadata": {
        "id": "tBjt0DnhSfQ4"
      }
    },
    {
      "cell_type": "code",
      "source": [
        "list = [\"orange\", \"mango\", \"kiwi\", \"pineapple\", \"banana\"]\n",
        "list.sort()\n",
        "print(list)"
      ],
      "metadata": {
        "id": "PwTVYWR6Sm3l"
      },
      "execution_count": null,
      "outputs": []
    },
    {
      "cell_type": "markdown",
      "source": [
        "#### **Sort By Length of String - sorted()**\n",
        "sorted() function allows us to sort the list by specifying the key parameter, using key = len we can sort the elements based on their length."
      ],
      "metadata": {
        "id": "ZgI-jZIUS8En"
      }
    },
    {
      "cell_type": "code",
      "source": [
        "list = [\"orange\", \"mango\", \"kiwi\", \"pineapple\", \"banana\"]\n",
        "\n",
        "# Sorting using sorted() with key=len\n",
        "b = sorted(a, key=len)\n",
        "\n",
        "print(b)"
      ],
      "metadata": {
        "id": "ROoCSAxJTLy_"
      },
      "execution_count": null,
      "outputs": []
    },
    {
      "cell_type": "markdown",
      "source": [
        "#### **Sort Descending**\n",
        "\n",
        "To sort descending, use the keyword argument reverse = True:"
      ],
      "metadata": {
        "id": "VakgN6GXTZ3S"
      }
    },
    {
      "cell_type": "code",
      "source": [
        "list = [\"orange\", \"mango\", \"kiwi\", \"pineapple\", \"banana\"]\n",
        "list.sort(reverse = True) # output like ['pineapple', 'orange', 'mango', 'kiwi', 'banana']\n",
        "print(list)"
      ],
      "metadata": {
        "id": "iRk_ZlvyTd3G"
      },
      "execution_count": null,
      "outputs": []
    },
    {
      "cell_type": "markdown",
      "source": [
        "#### **Using Custom Function as the Sorting Key**\n",
        "\n",
        "A custom function can provide additional flexibility in sorting logic."
      ],
      "metadata": {
        "id": "E9oJyBZMTu2y"
      }
    },
    {
      "cell_type": "code",
      "source": [
        "list = [\"orange\", \"mango\", \"kiwi\", \"pineapple\", \"banana\"]\n",
        "\n",
        "# Custom function for sorting\n",
        "def len_sort(s):\n",
        "    return len(s)\n",
        "\n",
        "# Sorting using custom function\n",
        "b = sorted(list, key=len_sort)\n",
        "\n",
        "print(b)"
      ],
      "metadata": {
        "id": "1N-n7zJgT1MT"
      },
      "execution_count": null,
      "outputs": []
    },
    {
      "cell_type": "markdown",
      "source": [
        "#### **Case Insensitive Sort**\n",
        "\n",
        "By default the sort() method is case sensitive, resulting in all capital letters being sorted before lower case letters:"
      ],
      "metadata": {
        "id": "QxTFY4xzUU23"
      }
    },
    {
      "cell_type": "code",
      "source": [
        "list = [\"banana\", \"Orange\", \"Kiwi\", \"cherry\"]\n",
        "list.sort()\n",
        "print(list)"
      ],
      "metadata": {
        "id": "qkIAy-b8UXNM"
      },
      "execution_count": null,
      "outputs": []
    },
    {
      "cell_type": "markdown",
      "source": [
        "## **5. Tuple**\n",
        "\n",
        "Python Tuple is a collection of objects separated by commas. A tuple is similar to a Python list in terms of indexing, nested objects, and repetition but the main difference between both is Python tuple is immutable, unlike the Python list which is mutable.\n",
        "\n",
        "1. Unlike Python lists, tuples are immutable. Some Characteristics of Tuples in Python.\n",
        "\n",
        "2. Like Lists, tuples are ordered and we can access their elements using their index values\n",
        "3. We cannot update items to a tuple once it is created.\n",
        "4. Tuples cannot be appended or extended.\n",
        "5. We cannot remove items from a tuple once it is created."
      ],
      "metadata": {
        "id": "aULRbOU63BKo"
      }
    },
    {
      "cell_type": "code",
      "source": [
        "t = (1, 2, 3, 4, 5)\n",
        "\n",
        "# tuples are indexed\n",
        "print(t[1])\n",
        "print(t[4])\n",
        "\n",
        "# tuples contain duplicate elements\n",
        "t = (1, 2, 3, 4, 2, 3)\n",
        "print(t)\n",
        "\n",
        "# updating an element\n",
        "t[1] = 100\n",
        "print(t)"
      ],
      "metadata": {
        "id": "FBv3h97J3_ee"
      },
      "execution_count": null,
      "outputs": []
    }
  ]
}